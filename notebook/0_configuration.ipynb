{
 "cells": [
  {
   "cell_type": "markdown",
   "metadata": {},
   "source": [
    "# Configuration for Contextual RAG with Amazon Bedrock\n",
    "\n",
    "This notebook sets up the necessary AWS configurations for a Contextual RAG (Retrieval-Augmented Generation) system using Amazon Bedrock and OpenSearch. Follow the steps sequentially to configure your environment properly."
   ]
  },
  {
   "cell_type": "markdown",
   "metadata": {},
   "source": [
    "## Import Required Libraries"
   ]
  },
  {
   "cell_type": "code",
   "execution_count": null,
   "metadata": {
    "tags": [],
    "vscode": {
     "languageId": "shellscript"
    }
   },
   "outputs": [],
   "source": [
    "%load_ext autoreload\n",
    "%autoreload 2\n",
    "\n",
    "# Install required packages\n",
    "%pip install -r requirements.txt"
   ]
  },
  {
   "cell_type": "markdown",
   "metadata": {
    "tags": []
   },
   "source": [
    "## 1. AWS Configuration\n",
    "This section sets up the AWS credentials and region for subsequent operations."
   ]
  },
  {
   "cell_type": "code",
   "execution_count": null,
   "metadata": {
    "tags": []
   },
   "outputs": [],
   "source": [
    "import os\n",
    "import boto3\n",
    "import json\n",
    "from sagemaker import get_execution_role\n",
    "import sys\n",
    "import requests\n",
    "from pprint import pprint\n",
    "\n",
    "# Get AWS role and session\n",
    "role = get_execution_role()\n",
    "session = boto3.Session()"
   ]
  },
  {
   "cell_type": "markdown",
   "metadata": {},
   "source": [
    "## 2. Bedrock Configuration\n",
    "Configure Amazon Bedrock service with appropriate model IDs."
   ]
  },
  {
   "cell_type": "code",
   "execution_count": null,
   "metadata": {
    "tags": []
   },
   "outputs": [],
   "source": [
    "from utils.bedrock import BedrockClient\n",
    "\n",
    "# List available foundation models\n",
    "print(\"\\n== Available Foundation Models ==\")\n",
    "all_models = BedrockClient.get_list_fm_models()\n",
    "pprint(all_models)"
   ]
  },
  {
   "cell_type": "code",
   "execution_count": null,
   "metadata": {
    "tags": []
   },
   "outputs": [],
   "source": [
    "# Set Bedrock model IDs\n",
    "# Claude 3.5 Sonnet for text generation\n",
    "os.environ[\"BEDROCK_MODEL_ID\"] = \"anthropic.claude-3-5-sonnet-20241022-v2:0\"\n",
    "# Titan Embeddings for vector generation\n",
    "os.environ[\"EMBED_MODEL_ID\"] = \"amazon.titan-embed-text-v2:0\"\n",
    "os.environ[\"BEDROCK_RETRIES\"] = \"10\"\n",
    "\n",
    "print(f\"\\nBedrock Models configured:\")\n",
    "print(f\"- Text Generation: {os.environ['BEDROCK_MODEL_ID']}\")\n",
    "print(f\"- Embeddings: {os.environ['EMBED_MODEL_ID']}\")"
   ]
  },
  {
   "cell_type": "markdown",
   "metadata": {
    "tags": []
   },
   "source": [
    "## 3. Opensearch Configuration\n",
    "Set up the OpenSearch service for vector storage and retrieval."
   ]
  },
  {
   "cell_type": "markdown",
   "metadata": {},
   "source": [
    "### 3-1. Index Configuration"
   ]
  },
  {
   "cell_type": "code",
   "execution_count": null,
   "metadata": {
    "tags": []
   },
   "outputs": [],
   "source": [
    "from utils.ssm import parameter_store\n",
    "\n",
    "# Create parameter store for configurations\n",
    "region = boto3.Session().region_name\n",
    "pm = parameter_store(region)\n",
    "\n",
    "# Define index name for OpenSearch\n",
    "index_name = \"default_doc_index\" \n",
    "\n",
    "# Store the index name in parameter store\n",
    "pm.put_params(\n",
    "    key=\"opensearch_index_name\",\n",
    "    value=f'{index_name}',\n",
    "    overwrite=True,\n",
    "    enc=False\n",
    ")\n",
    "print(f\"Index name '{index_name}' stored in parameter store\")"
   ]
  },
  {
   "cell_type": "markdown",
   "metadata": {
    "tags": []
   },
   "source": [
    "### 3-2. Define Index Schema\n",
    "The schema includes support for Korean text analysis using Nori plugin and vector search capabilities."
   ]
  },
  {
   "cell_type": "code",
   "execution_count": null,
   "metadata": {},
   "outputs": [],
   "source": [
    "# Define vector dimension for embeddings\n",
    "dimension = 1024\n",
    "\n",
    "# Define the index schema with Nori analyzer for Korean text\n",
    "index_body = {\n",
    "    'settings': {\n",
    "        'analysis': {\n",
    "            'analyzer': {\n",
    "                'my_analyzer': {\n",
    "                    'char_filter': ['html_strip'],\n",
    "                    'tokenizer': 'nori',\n",
    "                    'filter': [\n",
    "                        'my_nori_part_of_speech'\n",
    "                    ],\n",
    "                    'type': 'custom'\n",
    "                }\n",
    "            },\n",
    "            'tokenizer': {\n",
    "                'nori': {\n",
    "                    'decompound_mode': 'mixed',\n",
    "                    'discard_punctuation': 'true',\n",
    "                    'type': 'nori_tokenizer'\n",
    "                }\n",
    "            },\n",
    "            \"filter\": {\n",
    "                \"my_nori_part_of_speech\": {\n",
    "                    \"type\": \"nori_part_of_speech\",\n",
    "                    \"stoptags\": [\n",
    "                        \"J\", \"XSV\", \"E\", \"IC\", \"MAJ\", \"NNB\",\n",
    "                        \"SP\", \"SSC\", \"SSO\",\n",
    "                        \"SC\", \"SE\", \"XSN\", \"XSV\",\n",
    "                        \"UNA\", \"NA\", \"VCP\", \"VSV\",\n",
    "                        \"VX\"\n",
    "                    ]\n",
    "                }\n",
    "            }\n",
    "        },\n",
    "        'index': {\n",
    "            'knn': True,\n",
    "            'knn.space_type': 'cosinesimil'  # Cosine similarity for vector search\n",
    "        }\n",
    "    },\n",
    "    'mappings': {\n",
    "        'properties': {\n",
    "            'metadata': {\n",
    "                'properties': {\n",
    "                    'source': {'type': 'keyword'},\n",
    "                    'page_number': {'type': 'long'},\n",
    "                    'category': {'type': 'text'},\n",
    "                    'file_directory': {'type': 'text'},\n",
    "                    'last_modified': {'type': 'text'},\n",
    "                    'type': {'type': 'keyword'},\n",
    "                    'image_base64': {'type': 'text'},\n",
    "                    'origin_image': {'type': 'text'},\n",
    "                    'origin_table': {'type': 'text'},\n",
    "                }\n",
    "            },\n",
    "            'text': {\n",
    "                'analyzer': 'my_analyzer',\n",
    "                'search_analyzer': 'my_analyzer',\n",
    "                'type': 'text'\n",
    "            },\n",
    "            'vector_field': {\n",
    "                'type': 'knn_vector',\n",
    "                'dimension': dimension\n",
    "            }\n",
    "        }\n",
    "    }\n",
    "}"
   ]
  },
  {
   "cell_type": "markdown",
   "metadata": {},
   "source": [
    "### 3-3. Get Opensearch Domain Information"
   ]
  },
  {
   "cell_type": "code",
   "execution_count": null,
   "metadata": {},
   "outputs": [],
   "source": [
    "# Retrieve OpenSearch domain endpoint from parameter store\n",
    "opensearch_domain_endpoint = pm.get_params(\n",
    "    key=\"opensearch_domain_endpoint\",\n",
    "    enc=False\n",
    ")\n",
    "\n",
    "# Get authentication credentials from AWS Secrets Manager\n",
    "secrets_manager = boto3.client('secretsmanager')\n",
    "response = secrets_manager.get_secret_value(\n",
    "    SecretId='opensearch_user_password'\n",
    ")\n",
    "\n",
    "secrets_string = response.get('SecretString')\n",
    "secrets_dict = eval(secrets_string)\n",
    "\n",
    "opensearch_user_id = secrets_dict['es.net.http.auth.user']\n",
    "opensearch_user_password = secrets_dict['pwkey']\n",
    "\n",
    "http_auth = (opensearch_user_id, opensearch_user_password)\n",
    "\n",
    "# Parse OpenSearch domain endpoint\n",
    "result = pm.parse_opensearch_endpoint(opensearch_domain_endpoint)\n",
    "prefix, domain_name = result\n",
    "\n",
    "# Set OpenSearch environment variables\n",
    "os.environ[\"OPENSEARCH_PREFIX\"] = \"\"\n",
    "os.environ[\"OPENSEARCH_DOMAIN_NAME\"] = \"contextual-rag-domain\"\n",
    "os.environ[\"OPENSEARCH_DOCUMENT_NAME\"] = \"\"\n",
    "os.environ[\"OPENSEARCH_USER\"] = opensearch_user_id\n",
    "os.environ[\"OPENSEARCH_PASSWORD\"] = opensearch_user_password\n",
    "\n",
    "print(f\"OpenSearch Domain: {domain_name}\")\n",
    "print(f\"OpenSearch Prefix: {prefix}\")\n",
    "print(f\"OpenSearch User: {opensearch_user_id}\")"
   ]
  },
  {
   "cell_type": "markdown",
   "metadata": {
    "tags": []
   },
   "source": [
    "### 3-4. Create Opensearch Client"
   ]
  },
  {
   "cell_type": "code",
   "execution_count": null,
   "metadata": {
    "tags": []
   },
   "outputs": [],
   "source": [
    "from utils.opensearch import opensearch_utils\n",
    "\n",
    "# Create OpenSearch client\n",
    "aws_region = os.environ.get(\"AWS_DEFAULT_REGION\")\n",
    "os_client = opensearch_utils.create_aws_opensearch_client(\n",
    "    aws_region,\n",
    "    opensearch_domain_endpoint,\n",
    "    http_auth\n",
    ")\n",
    "\n",
    "# Check if index exists\n",
    "index_exists = opensearch_utils.check_if_index_exists(\n",
    "    os_client,\n",
    "    index_name\n",
    ")\n",
    "print(f\"Index '{index_name}' exists: {index_exists}\")"
   ]
  },
  {
   "cell_type": "markdown",
   "metadata": {},
   "source": [
    "### 3-5. Check OpenSearch Plugins\n",
    "Before creating the index, let's verify that the necessary plugins (especially Nori for Korean text) are installed."
   ]
  },
  {
   "cell_type": "code",
   "execution_count": null,
   "metadata": {},
   "outputs": [],
   "source": [
    "# Check installed plugins in OpenSearch\n",
    "plugins = os_client.cat.plugins(format=\"json\")\n",
    "print(\"Installed Plugins:\")\n",
    "for plugin in plugins:\n",
    "    print(plugin['component'])\n",
    "\n",
    "# Check if Nori plugin exists\n",
    "nori_installed = any(\"analysis-nori\" in plugin['component'] for plugin in plugins)\n",
    "if not nori_installed:\n",
    "    print(\"\\n⚠️ WARNING: Nori plugin for Korean text analysis is not installed!\")\n",
    "    print(\"To install Nori plugin, follow the instructions at:\")\n",
    "    print(\"https://aws.amazon.com/blogs/tech/amazon-opensearch-service-korean-nori-plugin-for-analysis/\")\n",
    "    print(\"You'll need to use a compatible OpenSearch version and add the plugin through the console.\")\n",
    "    print(\"Without this plugin, Korean text analysis will not work properly.\\n\")\n",
    "else:\n",
    "    print(\"\\n✅ Nori plugin is installed. Korean text analysis is supported.\")"
   ]
  },
  {
   "cell_type": "markdown",
   "metadata": {},
   "source": [
    "### 3-6. Create Index"
   ]
  },
  {
   "cell_type": "code",
   "execution_count": null,
   "metadata": {},
   "outputs": [],
   "source": [
    "# Check again if index exists\n",
    "index_exists = opensearch_utils.check_if_index_exists(\n",
    "    os_client,\n",
    "    index_name\n",
    ")\n",
    "\n",
    "# Delete index if it already exists\n",
    "if index_exists:\n",
    "    print(f\"Deleting existing index: {index_name}\")\n",
    "    opensearch_utils.delete_index(\n",
    "        os_client,\n",
    "        index_name\n",
    "    )\n",
    "\n",
    "# Create new index\n",
    "try:\n",
    "    print(f\"Creating index: {index_name}\")\n",
    "    opensearch_utils.create_index(os_client, index_name, index_body)\n",
    "    index_info = os_client.indices.get(index=index_name)\n",
    "    print(\"Index created successfully!\")\n",
    "    print(\"\\nIndex Configuration:\")\n",
    "    pprint(index_info)\n",
    "except Exception as e:\n",
    "    print(f\"Error creating index: {str(e)}\")\n",
    "    \n",
    "    # If error is related to Nori plugin, provide additional guidance\n",
    "    if \"nori_tokenizer\" in str(e):\n",
    "        print(\"\\nError appears to be related to the Nori tokenizer.\")\n",
    "        print(\"Please ensure the Nori plugin is installed in your OpenSearch domain.\")\n",
    "        print(\"Follow the instructions at: https://aws.amazon.com/blogs/tech/amazon-opensearch-service-korean-nori-plugin-for-analysis/\")"
   ]
  },
  {
   "cell_type": "markdown",
   "metadata": {},
   "source": [
    "## 4. RAG Application Configuration\n",
    "Additional configuration for the RAG application components."
   ]
  },
  {
   "cell_type": "code",
   "execution_count": null,
   "metadata": {},
   "outputs": [],
   "source": [
    "# Reranker Configuration\n",
    "os.environ[\"RERANKER_AWS_REGION\"] = \"us-west-2\"\n",
    "os.environ[\"RERANKER_AWS_PROFILE\"] = \"\"\n",
    "os.environ[\"RERANKER_MODEL_ID\"] = \"amazon.rerank-v1:0\"\n",
    "\n",
    "# Rank Fusion Configuration\n",
    "os.environ[\"RERANK_TOP_K\"] = \"20\"\n",
    "os.environ[\"HYBRID_SCORE_FILTER\"] = \"40\"\n",
    "os.environ[\"FINAL_RERANKED_RESULTS\"] = \"20\"\n",
    "os.environ[\"KNN_WEIGHT\"] = \"0.6\"\n",
    "\n",
    "# Application Configuration\n",
    "os.environ[\"RATE_LIMIT_DELAY\"] = \"60\"  # API 요청 간 지연 시간(초) (기본값: 60)"
   ]
  },
  {
   "cell_type": "markdown",
   "metadata": {},
   "source": [
    "## 5. Save Configuration to .env File\n",
    "Create a .env file to easily share configurations between notebooks."
   ]
  },
  {
   "cell_type": "code",
   "execution_count": null,
   "metadata": {},
   "outputs": [],
   "source": [
    "# Create .env file with all configurations\n",
    "env_vars = {\n",
    "    # AWS Configuration\n",
    "    \"AWS_REGION\": os.environ.get(\"AWS_DEFAULT_REGION\", \"us-west-2\"),\n",
    "    \"AWS_PROFILE\": os.environ.get(\"AWS_PROFILE\", \"default\"),\n",
    "    \n",
    "    # Bedrock Configuration\n",
    "    \"BEDROCK_MODEL_ID\": os.environ.get(\"BEDROCK_MODEL_ID\", \"\"),\n",
    "    \"EMBED_MODEL_ID\": os.environ.get(\"EMBED_MODEL_ID\", \"\"),\n",
    "    \"BEDROCK_RETRIES\": os.environ.get(\"BEDROCK_RETRIES\", \"10\"),\n",
    "    \n",
    "    # Model Configuration\n",
    "    \"MAX_TOKENS\": os.environ.get(\"MAX_TOKENS\", \"4096\"),\n",
    "    \"TEMPERATURE\": os.environ.get(\"TEMPERATURE\", \"0\"),\n",
    "    \"TOP_P\": os.environ.get(\"TOP_P\", \"0.7\"),\n",
    "    \n",
    "    # OpenSearch Configuration\n",
    "    \"OPENSEARCH_PREFIX\": os.environ.get(\"OPENSEARCH_PREFIX\", \"\"),\n",
    "    \"OPENSEARCH_DOMAIN_NAME\": os.environ.get(\"OPENSEARCH_DOMAIN_NAME\", \"\"),\n",
    "    \"OPENSEARCH_DOCUMENT_NAME\": os.environ.get(\"OPENSEARCH_DOCUMENT_NAME\", \"\"),\n",
    "    \"OPENSEARCH_USER\": os.environ.get(\"OPENSEARCH_USER\", \"\"),\n",
    "    \"OPENSEARCH_PASSWORD\": os.environ.get(\"OPENSEARCH_PASSWORD\", \"\"),\n",
    "    \n",
    "    # Reranker Configuration\n",
    "    \"RERANKER_MODEL_ID\": os.environ.get(\"RERANKER_MODEL_ID\", \"amazon.rerank-v1:0\"),\n",
    "    \"RERANKER_AWS_REGION\": os.environ.get(\"RERANKER_AWS_REGION\", \"us-west-2\"),\n",
    "    \"RERANKER_AWS_PROFILE\": os.environ.get(\"RERANKER_AWS_PROFILE\", \"\"),\n",
    "    \n",
    "    # Rank Fusion Configuration\n",
    "    \"RERANK_TOP_K\": os.environ.get(\"RERANK_TOP_K\", \"20\"),\n",
    "    \"HYBRID_SCORE_FILTER\": os.environ.get(\"HYBRID_SCORE_FILTER\", \"40\"),\n",
    "    \"FINAL_RERANKED_RESULTS\": os.environ.get(\"FINAL_RERANKED_RESULTS\", \"20\"),\n",
    "    \"KNN_WEIGHT\": os.environ.get(\"KNN_WEIGHT\", \"0.6\"),\n",
    "    \n",
    "    # Application Configuration\n",
    "    \"CHUNK_SIZE\": os.environ.get(\"CHUNK_SIZE\", \"1000\"),\n",
    "    \"RATE_LIMIT_DELAY\": os.environ.get(\"RATE_LIMIT_DELAY\", \"60\")\n",
    "}\n",
    "\n",
    "# Write .env file\n",
    "with open('.env', 'w') as f:\n",
    "    for key, value in env_vars.items():\n",
    "        if value is not None and value != \"\":\n",
    "            f.write(f\"{key}={value}\\n\")\n",
    "\n",
    "print(\".env file created successfully!\")\n",
    "print(\"This file will be used by other notebooks to load the configuration.\")\n",
    "\n",
    "# Load configuration into config object\n",
    "try:\n",
    "    from config import Config\n",
    "    config = Config.load()\n",
    "    \n",
    "    # Environment variables will be automatically loaded by the Config class\n",
    "    # when instantiated via the load() method, so no need to manually update values\n",
    "    \n",
    "    print(\"\\nConfiguration loaded successfully!\")\n",
    "    print(\"Current configuration:\")\n",
    "    print(f\"AWS Config: {config.aws}\")\n",
    "    print(f\"Bedrock Config: {config.bedrock}\")\n",
    "    print(f\"Model Config: {config.model}\")\n",
    "    print(f\"OpenSearch Config: {config.opensearch}\")\n",
    "    print(f\"Reranker Config: {config.reranker}\")\n",
    "    print(f\"Rank Fusion Config: {config.rank_fusion}\")\n",
    "    print(f\"App Config: {config.app}\")\n",
    "    \n",
    "except ImportError:\n",
    "    print(\"\\nWarning: Couldn't import Config. Configuration will be loaded from .env in subsequent notebooks.\")\n",
    "\n",
    "print(\"\\n✅ Configuration complete! You can now proceed to the next notebook.\")"
   ]
  }
 ],
 "metadata": {
  "kernelspec": {
   "display_name": "conda_python3",
   "language": "python",
   "name": "conda_python3"
  },
  "language_info": {
   "codemirror_mode": {
    "name": "ipython",
    "version": 3
   },
   "file_extension": ".py",
   "mimetype": "text/x-python",
   "name": "python",
   "nbconvert_exporter": "python",
   "pygments_lexer": "ipython3",
   "version": "3.10.16"
  }
 },
 "nbformat": 4,
 "nbformat_minor": 4
}

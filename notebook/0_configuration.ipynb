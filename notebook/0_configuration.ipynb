{
 "cells": [
  {
   "cell_type": "markdown",
   "metadata": {},
   "source": [
    "# Configuration"
   ]
  },
  {
   "cell_type": "code",
   "execution_count": 1,
   "metadata": {
    "tags": [],
    "vscode": {
     "languageId": "shellscript"
    }
   },
   "outputs": [
    {
     "name": "stdout",
     "output_type": "stream",
     "text": [
      "Requirement already satisfied: ipywidgets in /home/ec2-user/anaconda3/envs/python3/lib/python3.10/site-packages (8.1.5)\n",
      "Requirement already satisfied: comm>=0.1.3 in /home/ec2-user/anaconda3/envs/python3/lib/python3.10/site-packages (from ipywidgets) (0.2.2)\n",
      "Requirement already satisfied: ipython>=6.1.0 in /home/ec2-user/anaconda3/envs/python3/lib/python3.10/site-packages (from ipywidgets) (8.31.0)\n",
      "Requirement already satisfied: traitlets>=4.3.1 in /home/ec2-user/anaconda3/envs/python3/lib/python3.10/site-packages (from ipywidgets) (5.14.3)\n",
      "Requirement already satisfied: widgetsnbextension~=4.0.12 in /home/ec2-user/anaconda3/envs/python3/lib/python3.10/site-packages (from ipywidgets) (4.0.13)\n",
      "Requirement already satisfied: jupyterlab_widgets~=3.0.12 in /home/ec2-user/anaconda3/envs/python3/lib/python3.10/site-packages (from ipywidgets) (3.0.13)\n",
      "Requirement already satisfied: decorator in /home/ec2-user/anaconda3/envs/python3/lib/python3.10/site-packages (from ipython>=6.1.0->ipywidgets) (5.1.1)\n",
      "Requirement already satisfied: exceptiongroup in /home/ec2-user/anaconda3/envs/python3/lib/python3.10/site-packages (from ipython>=6.1.0->ipywidgets) (1.2.2)\n",
      "Requirement already satisfied: jedi>=0.16 in /home/ec2-user/anaconda3/envs/python3/lib/python3.10/site-packages (from ipython>=6.1.0->ipywidgets) (0.19.2)\n",
      "Requirement already satisfied: matplotlib-inline in /home/ec2-user/anaconda3/envs/python3/lib/python3.10/site-packages (from ipython>=6.1.0->ipywidgets) (0.1.7)\n",
      "Requirement already satisfied: pexpect>4.3 in /home/ec2-user/anaconda3/envs/python3/lib/python3.10/site-packages (from ipython>=6.1.0->ipywidgets) (4.9.0)\n",
      "Requirement already satisfied: prompt_toolkit<3.1.0,>=3.0.41 in /home/ec2-user/anaconda3/envs/python3/lib/python3.10/site-packages (from ipython>=6.1.0->ipywidgets) (3.0.48)\n",
      "Requirement already satisfied: pygments>=2.4.0 in /home/ec2-user/anaconda3/envs/python3/lib/python3.10/site-packages (from ipython>=6.1.0->ipywidgets) (2.19.1)\n",
      "Requirement already satisfied: stack_data in /home/ec2-user/anaconda3/envs/python3/lib/python3.10/site-packages (from ipython>=6.1.0->ipywidgets) (0.6.3)\n",
      "Requirement already satisfied: typing_extensions>=4.6 in /home/ec2-user/anaconda3/envs/python3/lib/python3.10/site-packages (from ipython>=6.1.0->ipywidgets) (4.12.2)\n",
      "Requirement already satisfied: parso<0.9.0,>=0.8.4 in /home/ec2-user/anaconda3/envs/python3/lib/python3.10/site-packages (from jedi>=0.16->ipython>=6.1.0->ipywidgets) (0.8.4)\n",
      "Requirement already satisfied: ptyprocess>=0.5 in /home/ec2-user/anaconda3/envs/python3/lib/python3.10/site-packages (from pexpect>4.3->ipython>=6.1.0->ipywidgets) (0.7.0)\n",
      "Requirement already satisfied: wcwidth in /home/ec2-user/anaconda3/envs/python3/lib/python3.10/site-packages (from prompt_toolkit<3.1.0,>=3.0.41->ipython>=6.1.0->ipywidgets) (0.2.13)\n",
      "Requirement already satisfied: executing>=1.2.0 in /home/ec2-user/anaconda3/envs/python3/lib/python3.10/site-packages (from stack_data->ipython>=6.1.0->ipywidgets) (2.1.0)\n",
      "Requirement already satisfied: asttokens>=2.1.0 in /home/ec2-user/anaconda3/envs/python3/lib/python3.10/site-packages (from stack_data->ipython>=6.1.0->ipywidgets) (3.0.0)\n",
      "Requirement already satisfied: pure_eval in /home/ec2-user/anaconda3/envs/python3/lib/python3.10/site-packages (from stack_data->ipython>=6.1.0->ipywidgets) (0.2.3)\n",
      "Note: you may need to restart the kernel to use updated packages.\n"
     ]
    }
   ],
   "source": [
    "%load_ext autoreload\n",
    "%autoreload 2\n",
    "%pip install ipywidgets"
   ]
  },
  {
   "cell_type": "markdown",
   "metadata": {
    "tags": []
   },
   "source": [
    "## 1. AWS Configuration"
   ]
  },
  {
   "cell_type": "code",
   "execution_count": 3,
   "metadata": {
    "tags": []
   },
   "outputs": [
    {
     "data": {
      "text/html": [
       "<pre style=\"white-space:pre;overflow-x:auto;line-height:normal;font-family:Menlo,'DejaVu Sans Mono',consolas,'Courier New',monospace\"><span style=\"color: #7fbfbf; text-decoration-color: #7fbfbf\">[02/10/25 22:43:16] </span><span style=\"color: #0069ff; text-decoration-color: #0069ff; font-weight: bold\">INFO    </span> Found credentials from IAM Role:                                   <a href=\"file:///home/ec2-user/anaconda3/envs/python3/lib/python3.10/site-packages/botocore/credentials.py\" target=\"_blank\"><span style=\"color: #7f7f7f; text-decoration-color: #7f7f7f\">credentials.py</span></a><span style=\"color: #7f7f7f; text-decoration-color: #7f7f7f\">:</span><a href=\"file:///home/ec2-user/anaconda3/envs/python3/lib/python3.10/site-packages/botocore/credentials.py#1075\" target=\"_blank\"><span style=\"color: #7f7f7f; text-decoration-color: #7f7f7f\">1075</span></a>\n",
       "<span style=\"color: #7fbfbf; text-decoration-color: #7fbfbf\">                    </span>         BaseNotebookInstanceEc2InstanceRole                                <span style=\"color: #7f7f7f; text-decoration-color: #7f7f7f\">                   </span>\n",
       "</pre>\n"
      ],
      "text/plain": [
       "\u001b[2;36m[02/10/25 22:43:16]\u001b[0m\u001b[2;36m \u001b[0m\u001b[1;38;2;0;105;255mINFO    \u001b[0m Found credentials from IAM Role:                                   \u001b]8;id=645973;file:///home/ec2-user/anaconda3/envs/python3/lib/python3.10/site-packages/botocore/credentials.py\u001b\\\u001b[2mcredentials.py\u001b[0m\u001b]8;;\u001b\\\u001b[2m:\u001b[0m\u001b]8;id=261935;file:///home/ec2-user/anaconda3/envs/python3/lib/python3.10/site-packages/botocore/credentials.py#1075\u001b\\\u001b[2m1075\u001b[0m\u001b]8;;\u001b\\\n",
       "\u001b[2;36m                    \u001b[0m         BaseNotebookInstanceEc2InstanceRole                                \u001b[2m                   \u001b[0m\n"
      ]
     },
     "metadata": {},
     "output_type": "display_data"
    }
   ],
   "source": [
    "import boto3\n",
    "from sagemaker import get_execution_role\n",
    "role = get_execution_role()\n",
    "session = boto3.Session()"
   ]
  },
  {
   "cell_type": "code",
   "execution_count": null,
   "metadata": {},
   "outputs": [],
   "source": [
    "os.environ[\"AWS_DEFAULT_REGION\"] = boto3.Session().region_name #us-west-2\n",
    "os.environ[\"AWS_PROFILE\"] = session #role"
   ]
  },
  {
   "cell_type": "markdown",
   "metadata": {},
   "source": [
    "## 2. Bedrock Configuration"
   ]
  },
  {
   "cell_type": "code",
   "execution_count": 4,
   "metadata": {
    "tags": []
   },
   "outputs": [],
   "source": [
    "import os\n",
    "import requests\n",
    "from pprint import pprint\n",
    "from utils.bedrock import BedrockClient"
   ]
  },
  {
   "cell_type": "code",
   "execution_count": 6,
   "metadata": {
    "tags": []
   },
   "outputs": [
    {
     "name": "stdout",
     "output_type": "stream",
     "text": [
      "\n",
      "== All FM lists ==\n"
     ]
    },
    {
     "data": {
      "text/html": [
       "<pre style=\"white-space:pre;overflow-x:auto;line-height:normal;font-family:Menlo,'DejaVu Sans Mono',consolas,'Courier New',monospace\"><span style=\"color: #7fbfbf; text-decoration-color: #7fbfbf\">[02/10/25 22:43:59] </span><span style=\"color: #0069ff; text-decoration-color: #0069ff; font-weight: bold\">INFO    </span> Found credentials from IAM Role:                                   <a href=\"file:///home/ec2-user/anaconda3/envs/python3/lib/python3.10/site-packages/botocore/credentials.py\" target=\"_blank\"><span style=\"color: #7f7f7f; text-decoration-color: #7f7f7f\">credentials.py</span></a><span style=\"color: #7f7f7f; text-decoration-color: #7f7f7f\">:</span><a href=\"file:///home/ec2-user/anaconda3/envs/python3/lib/python3.10/site-packages/botocore/credentials.py#1075\" target=\"_blank\"><span style=\"color: #7f7f7f; text-decoration-color: #7f7f7f\">1075</span></a>\n",
       "<span style=\"color: #7fbfbf; text-decoration-color: #7fbfbf\">                    </span>         BaseNotebookInstanceEc2InstanceRole                                <span style=\"color: #7f7f7f; text-decoration-color: #7f7f7f\">                   </span>\n",
       "</pre>\n"
      ],
      "text/plain": [
       "\u001b[2;36m[02/10/25 22:43:59]\u001b[0m\u001b[2;36m \u001b[0m\u001b[1;38;2;0;105;255mINFO    \u001b[0m Found credentials from IAM Role:                                   \u001b]8;id=816669;file:///home/ec2-user/anaconda3/envs/python3/lib/python3.10/site-packages/botocore/credentials.py\u001b\\\u001b[2mcredentials.py\u001b[0m\u001b]8;;\u001b\\\u001b[2m:\u001b[0m\u001b]8;id=765975;file:///home/ec2-user/anaconda3/envs/python3/lib/python3.10/site-packages/botocore/credentials.py#1075\u001b\\\u001b[2m1075\u001b[0m\u001b]8;;\u001b\\\n",
       "\u001b[2;36m                    \u001b[0m         BaseNotebookInstanceEc2InstanceRole                                \u001b[2m                   \u001b[0m\n"
      ]
     },
     "metadata": {},
     "output_type": "display_data"
    },
    {
     "name": "stdout",
     "output_type": "stream",
     "text": [
      "['amazon.titan-tg1-large',\n",
      " 'amazon.titan-embed-g1-text-02',\n",
      " 'amazon.titan-text-lite-v1:0:4k',\n",
      " 'amazon.titan-text-lite-v1',\n",
      " 'amazon.titan-text-express-v1:0:8k',\n",
      " 'amazon.titan-text-express-v1',\n",
      " 'amazon.nova-pro-v1:0',\n",
      " 'amazon.nova-lite-v1:0',\n",
      " 'amazon.nova-micro-v1:0',\n",
      " 'amazon.titan-embed-text-v1:2:8k',\n",
      " 'amazon.titan-embed-text-v1',\n",
      " 'amazon.titan-embed-text-v2:0',\n",
      " 'amazon.titan-embed-image-v1:0',\n",
      " 'amazon.titan-embed-image-v1',\n",
      " 'amazon.titan-image-generator-v1:0',\n",
      " 'amazon.titan-image-generator-v1',\n",
      " 'amazon.titan-image-generator-v2:0',\n",
      " 'amazon.rerank-v1:0',\n",
      " 'stability.stable-diffusion-xl-v1:0',\n",
      " 'stability.stable-diffusion-xl-v1',\n",
      " 'stability.sd3-large-v1:0',\n",
      " 'stability.sd3-5-large-v1:0',\n",
      " 'stability.stable-image-core-v1:0',\n",
      " 'stability.stable-image-core-v1:1',\n",
      " 'stability.stable-image-ultra-v1:0',\n",
      " 'stability.stable-image-ultra-v1:1',\n",
      " 'anthropic.claude-3-5-sonnet-20241022-v2:0:18k',\n",
      " 'anthropic.claude-3-5-sonnet-20241022-v2:0:51k',\n",
      " 'anthropic.claude-3-5-sonnet-20241022-v2:0:200k',\n",
      " 'anthropic.claude-3-5-sonnet-20241022-v2:0',\n",
      " 'anthropic.claude-3-5-haiku-20241022-v1:0',\n",
      " 'anthropic.claude-instant-v1:2:100k',\n",
      " 'anthropic.claude-instant-v1',\n",
      " 'anthropic.claude-v2:0:18k',\n",
      " 'anthropic.claude-v2:0:100k',\n",
      " 'anthropic.claude-v2:1:18k',\n",
      " 'anthropic.claude-v2:1:200k',\n",
      " 'anthropic.claude-v2:1',\n",
      " 'anthropic.claude-v2',\n",
      " 'anthropic.claude-3-sonnet-20240229-v1:0:28k',\n",
      " 'anthropic.claude-3-sonnet-20240229-v1:0:200k',\n",
      " 'anthropic.claude-3-sonnet-20240229-v1:0',\n",
      " 'anthropic.claude-3-haiku-20240307-v1:0:48k',\n",
      " 'anthropic.claude-3-haiku-20240307-v1:0:200k',\n",
      " 'anthropic.claude-3-haiku-20240307-v1:0',\n",
      " 'anthropic.claude-3-opus-20240229-v1:0:12k',\n",
      " 'anthropic.claude-3-opus-20240229-v1:0:28k',\n",
      " 'anthropic.claude-3-opus-20240229-v1:0:200k',\n",
      " 'anthropic.claude-3-opus-20240229-v1:0',\n",
      " 'anthropic.claude-3-5-sonnet-20240620-v1:0:18k',\n",
      " 'anthropic.claude-3-5-sonnet-20240620-v1:0:51k',\n",
      " 'anthropic.claude-3-5-sonnet-20240620-v1:0:200k',\n",
      " 'anthropic.claude-3-5-sonnet-20240620-v1:0',\n",
      " 'cohere.command-text-v14:7:4k',\n",
      " 'cohere.command-text-v14',\n",
      " 'cohere.command-r-v1:0',\n",
      " 'cohere.command-r-plus-v1:0',\n",
      " 'cohere.command-light-text-v14:7:4k',\n",
      " 'cohere.command-light-text-v14',\n",
      " 'cohere.embed-english-v3:0:512',\n",
      " 'cohere.embed-english-v3',\n",
      " 'cohere.embed-multilingual-v3:0:512',\n",
      " 'cohere.embed-multilingual-v3',\n",
      " 'cohere.rerank-v3-5:0',\n",
      " 'meta.llama3-8b-instruct-v1:0',\n",
      " 'meta.llama3-70b-instruct-v1:0',\n",
      " 'meta.llama3-1-8b-instruct-v1:0:128k',\n",
      " 'meta.llama3-1-8b-instruct-v1:0',\n",
      " 'meta.llama3-1-70b-instruct-v1:0:128k',\n",
      " 'meta.llama3-1-70b-instruct-v1:0',\n",
      " 'meta.llama3-1-405b-instruct-v1:0',\n",
      " 'meta.llama3-2-11b-instruct-v1:0',\n",
      " 'meta.llama3-2-90b-instruct-v1:0',\n",
      " 'meta.llama3-2-1b-instruct-v1:0',\n",
      " 'meta.llama3-2-3b-instruct-v1:0',\n",
      " 'meta.llama3-3-70b-instruct-v1:0',\n",
      " 'mistral.mistral-7b-instruct-v0:2',\n",
      " 'mistral.mixtral-8x7b-instruct-v0:1',\n",
      " 'mistral.mistral-large-2402-v1:0',\n",
      " 'mistral.mistral-large-2407-v1:0',\n",
      " 'luma.ray-v2:0']\n"
     ]
    }
   ],
   "source": [
    "# 결과 출력\n",
    "print(\"\\n== All FM lists ==\")\n",
    "all_models = BedrockClient.get_list_fm_models()\n",
    "pprint(all_models)"
   ]
  },
  {
   "cell_type": "code",
   "execution_count": 11,
   "metadata": {
    "tags": []
   },
   "outputs": [
    {
     "name": "stdout",
     "output_type": "stream",
     "text": [
      "\u001b[32m\n",
      "== All FM lists ==\u001b[0m\n",
      "['amazon.titan-tg1-large',\n",
      " 'amazon.titan-embed-g1-text-02',\n",
      " 'amazon.titan-text-lite-v1:0:4k',\n",
      " 'amazon.titan-text-lite-v1',\n",
      " 'amazon.titan-text-express-v1:0:8k',\n",
      " 'amazon.titan-text-express-v1',\n",
      " 'amazon.nova-pro-v1:0',\n",
      " 'amazon.nova-lite-v1:0',\n",
      " 'amazon.nova-micro-v1:0',\n",
      " 'amazon.titan-embed-text-v1:2:8k',\n",
      " 'amazon.titan-embed-text-v1',\n",
      " 'amazon.titan-embed-text-v2:0',\n",
      " 'amazon.titan-embed-image-v1:0',\n",
      " 'amazon.titan-embed-image-v1',\n",
      " 'amazon.titan-image-generator-v1:0',\n",
      " 'amazon.titan-image-generator-v1',\n",
      " 'amazon.titan-image-generator-v2:0',\n",
      " 'amazon.rerank-v1:0',\n",
      " 'stability.stable-diffusion-xl-v1:0',\n",
      " 'stability.stable-diffusion-xl-v1',\n",
      " 'stability.sd3-large-v1:0',\n",
      " 'stability.sd3-5-large-v1:0',\n",
      " 'stability.stable-image-core-v1:0',\n",
      " 'stability.stable-image-core-v1:1',\n",
      " 'stability.stable-image-ultra-v1:0',\n",
      " 'stability.stable-image-ultra-v1:1',\n",
      " 'anthropic.claude-3-5-sonnet-20241022-v2:0:18k',\n",
      " 'anthropic.claude-3-5-sonnet-20241022-v2:0:51k',\n",
      " 'anthropic.claude-3-5-sonnet-20241022-v2:0:200k',\n",
      " 'anthropic.claude-3-5-sonnet-20241022-v2:0',\n",
      " 'anthropic.claude-3-5-haiku-20241022-v1:0',\n",
      " 'anthropic.claude-instant-v1:2:100k',\n",
      " 'anthropic.claude-instant-v1',\n",
      " 'anthropic.claude-v2:0:18k',\n",
      " 'anthropic.claude-v2:0:100k',\n",
      " 'anthropic.claude-v2:1:18k',\n",
      " 'anthropic.claude-v2:1:200k',\n",
      " 'anthropic.claude-v2:1',\n",
      " 'anthropic.claude-v2',\n",
      " 'anthropic.claude-3-sonnet-20240229-v1:0:28k',\n",
      " 'anthropic.claude-3-sonnet-20240229-v1:0:200k',\n",
      " 'anthropic.claude-3-sonnet-20240229-v1:0',\n",
      " 'anthropic.claude-3-haiku-20240307-v1:0:48k',\n",
      " 'anthropic.claude-3-haiku-20240307-v1:0:200k',\n",
      " 'anthropic.claude-3-haiku-20240307-v1:0',\n",
      " 'anthropic.claude-3-opus-20240229-v1:0:12k',\n",
      " 'anthropic.claude-3-opus-20240229-v1:0:28k',\n",
      " 'anthropic.claude-3-opus-20240229-v1:0:200k',\n",
      " 'anthropic.claude-3-opus-20240229-v1:0',\n",
      " 'anthropic.claude-3-5-sonnet-20240620-v1:0:18k',\n",
      " 'anthropic.claude-3-5-sonnet-20240620-v1:0:51k',\n",
      " 'anthropic.claude-3-5-sonnet-20240620-v1:0:200k',\n",
      " 'anthropic.claude-3-5-sonnet-20240620-v1:0',\n",
      " 'cohere.command-text-v14:7:4k',\n",
      " 'cohere.command-text-v14',\n",
      " 'cohere.command-r-v1:0',\n",
      " 'cohere.command-r-plus-v1:0',\n",
      " 'cohere.command-light-text-v14:7:4k',\n",
      " 'cohere.command-light-text-v14',\n",
      " 'cohere.embed-english-v3:0:512',\n",
      " 'cohere.embed-english-v3',\n",
      " 'cohere.embed-multilingual-v3:0:512',\n",
      " 'cohere.embed-multilingual-v3',\n",
      " 'cohere.rerank-v3-5:0',\n",
      " 'meta.llama3-8b-instruct-v1:0',\n",
      " 'meta.llama3-70b-instruct-v1:0',\n",
      " 'meta.llama3-1-8b-instruct-v1:0:128k',\n",
      " 'meta.llama3-1-8b-instruct-v1:0',\n",
      " 'meta.llama3-1-70b-instruct-v1:0:128k',\n",
      " 'meta.llama3-1-70b-instruct-v1:0',\n",
      " 'meta.llama3-1-405b-instruct-v1:0',\n",
      " 'meta.llama3-2-11b-instruct-v1:0',\n",
      " 'meta.llama3-2-90b-instruct-v1:0',\n",
      " 'meta.llama3-2-1b-instruct-v1:0',\n",
      " 'meta.llama3-2-3b-instruct-v1:0',\n",
      " 'meta.llama3-3-70b-instruct-v1:0',\n",
      " 'mistral.mistral-7b-instruct-v0:2',\n",
      " 'mistral.mixtral-8x7b-instruct-v0:1',\n",
      " 'mistral.mistral-large-2402-v1:0',\n",
      " 'mistral.mistral-large-2407-v1:0',\n",
      " 'luma.ray-v2:0']\n"
     ]
    }
   ],
   "source": [
    "# # Bedrock 클라이언트 생성 함수\n",
    "# def get_bedrock_client(region=None):\n",
    "#     session = boto3.Session()\n",
    "    \n",
    "#     config = Config(\n",
    "#         retries={\n",
    "#             'max_attempts': 10,\n",
    "#             'mode': 'standard'\n",
    "#         }\n",
    "#     )\n",
    "    \n",
    "#     return session.client(\n",
    "#         service_name='bedrock',\n",
    "#         region_name=region,\n",
    "#         config=config\n",
    "#     )\n",
    "\n",
    "# # Bedrock 클라이언트 생성\n",
    "# boto3_bedrock = get_bedrock_client(\n",
    "#     region=boto3.Session().region_name\n",
    "# )\n",
    "\n",
    "# # Bedrock 모델 리스트 가져오기 함수\n",
    "# def get_list_fm_models(verbose=False):\n",
    "#     response = boto3_bedrock.list_foundation_models()\n",
    "#     models = response['modelSummaries']\n",
    "    \n",
    "#     if verbose:\n",
    "#         return models\n",
    "#     else:\n",
    "#         return [model['modelId'] for model in models]\n",
    "\n",
    "# # 결과 출력\n",
    "# print(colored(\"\\n== All FM lists ==\", \"green\"))\n",
    "# all_models = get_list_fm_models(verbose=False)\n",
    "# pprint(all_models)"
   ]
  },
  {
   "cell_type": "code",
   "execution_count": 3,
   "metadata": {
    "tags": []
   },
   "outputs": [
    {
     "name": "stdout",
     "output_type": "stream",
     "text": [
      "Collecting termcolor\n",
      "  Downloading termcolor-2.5.0-py3-none-any.whl.metadata (6.1 kB)\n",
      "Downloading termcolor-2.5.0-py3-none-any.whl (7.8 kB)\n",
      "Installing collected packages: termcolor\n",
      "Successfully installed termcolor-2.5.0\n",
      "Note: you may need to restart the kernel to use updated packages.\n"
     ]
    }
   ],
   "source": [
    "os.environ[\"BEDROCK_MODEL_ID\"] = \"\"\n",
    "os.environ[\"BEDROCK_RETRIES\"] = \"\"\n",
    "os.environ[\"EMBED_MODEL_ID\"] = \"\""
   ]
  },
  {
   "cell_type": "markdown",
   "metadata": {
    "tags": []
   },
   "source": [
    "## 3. Opensearch Configuration"
   ]
  },
  {
   "cell_type": "markdown",
   "metadata": {},
   "source": [
    "### 3-1. Index Configuration"
   ]
  },
  {
   "cell_type": "code",
   "execution_count": 10,
   "metadata": {
    "tags": []
   },
   "outputs": [],
   "source": [
    "from utils.ssm import parameter_store\n",
    "region=boto3.Session().region_name\n",
    "pm = parameter_store(region)"
   ]
  },
  {
   "cell_type": "code",
   "execution_count": 11,
   "metadata": {
    "tags": []
   },
   "outputs": [
    {
     "name": "stdout",
     "output_type": "stream",
     "text": [
      "Parameter stored successfully.\n"
     ]
    }
   ],
   "source": [
    "index_name = \"default_doc_index\" \n",
    "\n",
    "pm.put_params(\n",
    "    key=\"opensearch_index_name\",\n",
    "    value=f'{index_name}',\n",
    "    overwrite=True,\n",
    "    enc=False\n",
    ")"
   ]
  },
  {
   "cell_type": "markdown",
   "metadata": {
    "tags": []
   },
   "source": [
    "### 3-2. Define Index Schema"
   ]
  },
  {
   "cell_type": "code",
   "execution_count": null,
   "metadata": {},
   "outputs": [],
   "source": [
    "index_body = {\n",
    "    'settings': {\n",
    "        'analysis': {\n",
    "            'analyzer': {\n",
    "                'my_analyzer': {\n",
    "                         'char_filter':['html_strip'],\n",
    "                    'tokenizer': 'nori',\n",
    "                    'filter': [\n",
    "                        #'nori_number',\n",
    "                        #'lowercase',\n",
    "                        #'trim',\n",
    "                        'my_nori_part_of_speech'\n",
    "                    ],\n",
    "                    'type': 'custom'\n",
    "                }\n",
    "            },\n",
    "            'tokenizer': {\n",
    "                'nori': {\n",
    "                    'decompound_mode': 'mixed',\n",
    "                    'discard_punctuation': 'true',\n",
    "                    'type': 'nori_tokenizer'\n",
    "                }\n",
    "            },\n",
    "            \"filter\": {\n",
    "                \"my_nori_part_of_speech\": {\n",
    "                    \"type\": \"nori_part_of_speech\",\n",
    "                    \"stoptags\": [\n",
    "                        \"J\", \"XSV\", \"E\", \"IC\",\"MAJ\",\"NNB\",\n",
    "                        \"SP\", \"SSC\", \"SSO\",\n",
    "                        \"SC\",\"SE\",\"XSN\",\"XSV\",\n",
    "                        \"UNA\",\"NA\",\"VCP\",\"VSV\",\n",
    "                        \"VX\"\n",
    "                    ]\n",
    "                }\n",
    "            }\n",
    "        },\n",
    "        'index': {\n",
    "            'knn': True,\n",
    "            'knn.space_type': 'cosinesimil'  # Example space type\n",
    "        }\n",
    "    },\n",
    "    'mappings': {\n",
    "        'properties': {\n",
    "            'metadata': {\n",
    "                'properties': {\n",
    "                    'source': {'type': 'keyword'},\n",
    "                    'page_number': {'type':'long'},\n",
    "                    'category': {'type':'text'},\n",
    "                    'file_directory': {'type':'text'},\n",
    "                    'last_modified': {'type': 'text'},\n",
    "                    'type': {'type': 'keyword'},\n",
    "                    'image_base64': {'type':'text'},\n",
    "                    'origin_image': {'type':'text'},\n",
    "                    'origin_table': {'type':'text'},\n",
    "                }\n",
    "            },\n",
    "            'text': {\n",
    "                'analyzer': 'my_analyzer',\n",
    "                'search_analyzer': 'my_analyzer',\n",
    "                'type': 'text'\n",
    "            },\n",
    "            'vector_field': {\n",
    "                'type': 'knn_vector',\n",
    "                'dimension': f\"{dimension}\" # Replace with your vector dimension\n",
    "            }\n",
    "        }\n",
    "    }\n",
    "}\n"
   ]
  },
  {
   "cell_type": "code",
   "execution_count": null,
   "metadata": {},
   "outputs": [],
   "source": [
    "### 3-3. Get Opensearch Domain Information"
   ]
  },
  {
   "cell_type": "code",
   "execution_count": 15,
   "metadata": {},
   "outputs": [],
   "source": [
    "opensearch_domain_endpoint = pm.get_params(\n",
    "    key=\"opensearch_domain_endpoint\",\n",
    "    enc=False\n",
    ")\n",
    "\n",
    "secrets_manager = boto3.client('secretsmanager')\n",
    "\n",
    "response = secrets_manager.get_secret_value(\n",
    "    SecretId='opensearch_user_password'\n",
    ")\n",
    "\n",
    "secrets_string = response.get('SecretString')\n",
    "secrets_dict = eval(secrets_string)\n",
    "\n",
    "opensearch_user_id = secrets_dict['es.net.http.auth.user']\n",
    "opensearch_user_password = secrets_dict['pwkey']\n",
    "\n",
    "http_auth = (opensearch_user_id, opensearch_user_password)\n",
    "\n",
    "result = pm.parse_opensearch_endpoint(opensearch_domain_endpoint)\n",
    "prefix, domain_name = result"
   ]
  },
  {
   "cell_type": "code",
   "execution_count": null,
   "metadata": {},
   "outputs": [],
   "source": [
    "os.environ[\"OPENSEARCH_PREFIX\"] = prefix\n",
    "os.environ[\"OPENSEARCH_DOMAIN_NAME\"] = domain_name\n",
    "os.environ[\"OPENSEARCH_DOCUMENT_NAME\"] = \"\"\n",
    "os.environ[\"OPENSEARCH_USER\"] = opensearch_user_id\n",
    "os.environ[\"OPENSEARCH_PASSWORD\"] = opensearch_user_password"
   ]
  },
  {
   "cell_type": "markdown",
   "metadata": {
    "tags": []
   },
   "source": [
    "### 3-4. Create Opensearch Client"
   ]
  },
  {
   "cell_type": "code",
   "execution_count": 16,
   "metadata": {
    "tags": []
   },
   "outputs": [],
   "source": [
    "from utils.opensearch import opensearch_utils\n",
    "\n",
    "aws_region = os.environ.get(\"AWS_DEFAULT_REGION\", None)\n",
    "\n",
    "os_client = opensearch_utils.create_aws_opensearch_client(\n",
    "    aws_region,\n",
    "    opensearch_domain_endpoint,\n",
    "    http_auth\n",
    ")"
   ]
  },
  {
   "cell_type": "markdown",
   "metadata": {},
   "source": [
    "### 3-5. Create Index "
   ]
  },
  {
   "cell_type": "code",
   "execution_count": null,
   "metadata": {},
   "outputs": [],
   "source": [
    "index_exists = opensearch_utils.check_if_index_exists(\n",
    "    os_client,\n",
    "    index_name\n",
    ")\n",
    "\n",
    "if index_exists:\n",
    "    opensearch_utils.delete_index(\n",
    "        os_client,\n",
    "        index_name\n",
    "    )\n",
    "\n",
    "opensearch_utils.create_index(os_client, index_name, index_body)\n",
    "index_info = os_client.indices.get(index=index_name)\n",
    "print(\"Index is created\")\n",
    "pprint(index_info)"
   ]
  },
  {
   "cell_type": "markdown",
   "metadata": {},
   "source": [
    "## 4. RAG Application Configuration"
   ]
  },
  {
   "cell_type": "code",
   "execution_count": null,
   "metadata": {},
   "outputs": [],
   "source": [
    "# Reranker Configuration\n",
    "os.environ[\"RERANKER_AWS_REGION\"] = \"\"\n",
    "os.environ[\"RERANKER_AWS_PROFILE\"] = \"\"\n",
    "os.environ[\"RERANKER_MODEL_ID\"] = \"\"\n",
    "\n",
    "# Rank Fusion Configuration\n",
    "os.environ[\"RERANK_TOP_K\"] = \"\"\n",
    "os.environ[\"HYBRID_SCORE_FILTER\"] = \"\"\n",
    "os.environ[\"FINAL_RERANKED_RESULTS\"] = \"\"\n",
    "os.environ[\"KNN_WEIGHT\"] = \"\"\n",
    "\n",
    "# Application Configuration\n",
    "os.environ[\"RATE_LIMIT_DELAY\"] = \"60\"  # API 요청 간 지연 시간(초) (기본값: 60)"
   ]
  }
 ],
 "metadata": {
  "kernelspec": {
   "display_name": "conda_python3",
   "language": "python",
   "name": "conda_python3"
  },
  "language_info": {
   "codemirror_mode": {
    "name": "ipython",
    "version": 3
   },
   "file_extension": ".py",
   "mimetype": "text/x-python",
   "name": "python",
   "nbconvert_exporter": "python",
   "pygments_lexer": "ipython3",
   "version": "3.10.16"
  }
 },
 "nbformat": 4,
 "nbformat_minor": 4
}
